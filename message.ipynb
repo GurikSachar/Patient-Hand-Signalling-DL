{
 "cells": [
  {
   "cell_type": "code",
   "execution_count": 2,
   "metadata": {},
   "outputs": [
    {
     "name": "stdout",
     "output_type": "stream",
     "text": [
      "1/1 [==============================] - 0s 118ms/step\n",
      "[[0.17926641]]\n",
      "Prediction value of CNN is:  0.17926641 . Above 0.4 for emergency, below 0.4 for assistance\n",
      "Patient is calling for assistance\n",
      "Message sent\n"
     ]
    }
   ],
   "source": [
    "import cv2\n",
    "import os\n",
    "import tensorflow as tf\n",
    "from tensorflow.keras.models import load_model\n",
    "import numpy as np\n",
    "import requests\n",
    "import json\n",
    "import time  \n",
    "\n",
    "img = cv2.imread('assistance.jpg')\n",
    "resize = tf.image.resize(img, (256,256))\n",
    "new_model = load_model(os.path.join('models','signpredmodel.h5'))\n",
    "yhat = new_model.predict(np.expand_dims(resize/255, 0))\n",
    "print(yhat)\n",
    "print('Prediction value of CNN is: ', yhat[0][0], '. Above 0.4 for emergency, below 0.4 for assistance')\n",
    "\n",
    "if yhat > 0.4:\n",
    "    message = 'Patient is calling for emergency'\n",
    "    print(message)\n",
    "else:\n",
    "    message = 'Patient is calling for assistance'\n",
    "    print(message)\n",
    " \n",
    "# Function to send Push Notification\n",
    "def pushbullet_noti(title, body):\n",
    " \n",
    "    TOKEN = 'o.1PyS6pubEVzxcjTr14aTAHbLrZ3BSNfc'  # Pass your Access Token here\n",
    "    # Make a dictionary that includes, title and body\n",
    "    msg = {\"type\": \"note\", \"title\": title, \"body\": body}\n",
    "    # Sent a posts request\n",
    "    resp = requests.post('https://api.pushbullet.com/v2/pushes',\n",
    "                         data=json.dumps(msg),\n",
    "                         headers={'Authorization': 'Bearer ' + TOKEN,\n",
    "                                  'Content-Type': 'application/json'})\n",
    "    if resp.status_code != 200:  # Check if fort message send with the help of status code\n",
    "        raise Exception('Error', resp.status_code)\n",
    "    else:\n",
    "        print('Message sent')\n",
    "\n",
    "pushbullet_noti('Patient Calling',message)\n",
    " "
   ]
  }
 ],
 "metadata": {
  "kernelspec": {
   "display_name": "Python 3",
   "language": "python",
   "name": "python3"
  },
  "language_info": {
   "codemirror_mode": {
    "name": "ipython",
    "version": 3
   },
   "file_extension": ".py",
   "mimetype": "text/x-python",
   "name": "python",
   "nbconvert_exporter": "python",
   "pygments_lexer": "ipython3",
   "version": "3.10.11"
  },
  "orig_nbformat": 4
 },
 "nbformat": 4,
 "nbformat_minor": 2
}
